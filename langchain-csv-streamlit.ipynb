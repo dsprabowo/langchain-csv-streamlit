{
 "cells": [
  {
   "cell_type": "markdown",
   "metadata": {},
   "source": [
    "# Humanize your data!\n",
    "## Communicate using natural language with your csv data"
   ]
  },
  {
   "cell_type": "markdown",
   "metadata": {},
   "source": [
    "With the popularity rise of AI and ChatGPT, several application has been made available to implement AI in several domains.\n",
    "In this article we will try to use OpenAI API to interact with our own data through langchain and create a simple interface using streamlit. Code is available [here](https://github.com/dsprabowo/langchain-csv-streamlit). \n",
    "\n",
    "If you don't have OpenAI API key, [get it here](https://platform.openai.com/account/api-keys).\n",
    "Create an .env file consist of ```OPENAI_API_KEY=YOUR_API_KEY```. We will use dotenv to load the api key"
   ]
  },
  {
   "cell_type": "markdown",
   "metadata": {},
   "source": [
    "## Install libraries\n"
   ]
  },
  {
   "cell_type": "markdown",
   "metadata": {},
   "source": [
    "We will need langchain, openai, streamlit and dotenv. To install with pip run this ```pip install langchain, openai, streamlit, python-dotenv```"
   ]
  },
  {
   "cell_type": "markdown",
   "metadata": {},
   "source": [
    "## 1. Create an agent\n",
    "\n"
   ]
  },
  {
   "cell_type": "markdown",
   "metadata": {},
   "source": [
    "An agent is a Large Language Model (LLM) that takes user input and reports an output based on using one of many tools at its disposal. With langchain we can create an agent using our choice of LLM (in this case we area going to use OpenAI's LLM)"
   ]
  },
  {
   "cell_type": "markdown",
   "metadata": {},
   "source": [
    "### Create agent.py file and add following code"
   ]
  },
  {
   "cell_type": "code",
   "execution_count": null,
   "metadata": {
    "vscode": {
     "languageId": "plaintext"
    }
   },
   "outputs": [],
   "source": [
    "from dotenv import load_dotenv\n",
    "from langchain import OpenAI\n",
    "from langchain.agents import create_pandas_dataframe_agent\n",
    "import pandas as pd\n",
    "\n",
    "# Setting up the api key\n",
    "load_dotenv() # Load API key from .env file\n",
    "\n",
    "def generate_agent(filename: str):\n",
    "    llm = OpenAI(temperature = 0)\n",
    "    df = pd.read_csv(filename)\n",
    "    return create_pandas_dataframe_agent(llm, df, verbose=True)\n",
    "\n",
    "\n",
    "def agent_query(agent, query):\n",
    "    prompt = (\n",
    "        query\n",
    "    )\n",
    "\n",
    "    # Run the prompt through the agent.\n",
    "    response = agent.run(prompt)\n",
    "\n",
    "    # Convert the response to a string.\n",
    "    return response.__str__()"
   ]
  },
  {
   "cell_type": "markdown",
   "metadata": {},
   "source": [
    "### The function generate_agent() will do these steps:\n",
    "1. Create an llm object which connect ot the OpenAI API using your API Key\n",
    "2. Read csv data using pandas\n",
    "3. Return an agent to communicate with pandas dataframe available from langchain"
   ]
  },
  {
   "cell_type": "markdown",
   "metadata": {},
   "source": [
    "### The function agent_query() will do these steps:\n",
    "1. Create a prompt from input query (here it will only be the query as it is but you can modify it if you know what kind of response you are expecting from OpenAI)\n",
    "2. Run the pandas dataframe agent with the prompt\n",
    "3. Return the response as string"
   ]
  },
  {
   "cell_type": "markdown",
   "metadata": {},
   "source": [
    "## 2. Create a simple interface in streamlit"
   ]
  },
  {
   "cell_type": "markdown",
   "metadata": {},
   "source": [
    "We are going to need a simple interface to input our data and query. For that, Streamlit is a good library because it is free with little to no front-end web development experience required."
   ]
  },
  {
   "cell_type": "markdown",
   "metadata": {},
   "source": [
    "### Create interface.py file and add following code"
   ]
  },
  {
   "cell_type": "code",
   "execution_count": null,
   "metadata": {
    "vscode": {
     "languageId": "plaintext"
    }
   },
   "outputs": [],
   "source": [
    "import streamlit as st\n",
    "from agent import agent_query, generate_agent\n",
    "\n",
    "st.title(\"HUMANIZE YOUR DATA!\")\n",
    "\n",
    "st.title(\"Make a conversation with your CSV files\")\n",
    "\n",
    "data = st.file_uploader(\"Upload a CSV\")\n",
    "\n",
    "query = st.text_area(\"Insert your query\")\n",
    "\n",
    "if st.button(\"Submit Query\", type=\"primary\"):\n",
    "    # Create an agent from the CSV file.\n",
    "    agent = generate_agent(data)\n",
    "\n",
    "    # Query the agent.\n",
    "    response = agent_query(agent=agent, query=query)\n",
    "\n",
    "    # Write the response to the Streamlit app.\n",
    "    st.write(response)"
   ]
  },
  {
   "cell_type": "markdown",
   "metadata": {},
   "source": [
    "In this simple interface we will create:\n",
    "1. A file_uploader() box to upload .csv file\n",
    "2. A text_area() input where we can type our query\n",
    "3. A Submission button() to send the query"
   ]
  },
  {
   "cell_type": "markdown",
   "metadata": {},
   "source": [
    "After the button is submitted, the query and csv data will be sent to the generated agent to create a response. Afterwards, the response will be shown in the streamlit interface."
   ]
  },
  {
   "cell_type": "markdown",
   "metadata": {},
   "source": [
    "## 3. Run streamlit app\n",
    "in the console, start the application with ```streamlit run interface.py```."
   ]
  }
 ],
 "metadata": {
  "kernelspec": {
   "display_name": "Python 3 (ipykernel)",
   "language": "python",
   "name": "python3"
  },
  "language_info": {
   "codemirror_mode": {
    "name": "ipython",
    "version": 3
   },
   "file_extension": ".py",
   "mimetype": "text/x-python",
   "name": "python",
   "nbconvert_exporter": "python",
   "pygments_lexer": "ipython3",
   "version": "3.9.12"
  }
 },
 "nbformat": 4,
 "nbformat_minor": 2
}
